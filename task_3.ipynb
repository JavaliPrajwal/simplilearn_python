{
 "cells": [
  {
   "cell_type": "markdown",
   "id": "d92d0d08",
   "metadata": {},
   "source": [
    "Tasks :\n",
    "\n",
    "Create a variable\n",
    "\n",
    "An integer type\n",
    "A List of integers\n",
    "A string\n",
    "A List of integer and String\n",
    "A tuple of integers\n",
    "A set of strings\n",
    "A List of strings\n",
    "Create a dictionary and include all the above variables as value against a unique random key\n",
    "\n",
    "Try to access the different values and sub values in this dictionary"
   ]
  },
  {
   "cell_type": "code",
   "execution_count": 1,
   "id": "fffc4a5c",
   "metadata": {},
   "outputs": [],
   "source": [
    "integer_variable = 42\n",
    "list_of_integers = [1, 2, 3, 4, 5]\n",
    "string_variable = \"Hello, world!\"\n",
    "list_of_mixed = [10, \"abc\", 20, \"def\"]\n",
    "tuple_of_integers = (7, 8, 9)\n",
    "set_of_strings = {\"apple\", \"banana\", \"cherry\"}\n",
    "list_of_strings = [\"dog\", \"cat\", \"elephant\"]"
   ]
  },
  {
   "cell_type": "code",
   "execution_count": 3,
   "id": "66ae6e9d",
   "metadata": {},
   "outputs": [],
   "source": [
    "import random \n",
    "my_dict = {\n",
    "    random.randint(1, 1000): integer_variable,\n",
    "    random.randint(1, 1000): list_of_integers,\n",
    "    random.randint(1, 1000): string_variable,\n",
    "    random.randint(1, 1000): list_of_mixed,\n",
    "    random.randint(1, 1000): tuple_of_integers,\n",
    "    random.randint(1, 1000): set_of_strings,\n",
    "    random.randint(1, 1000): list_of_strings\n",
    "}"
   ]
  },
  {
   "cell_type": "code",
   "execution_count": 4,
   "id": "ceb2212a",
   "metadata": {},
   "outputs": [
    {
     "data": {
      "text/plain": [
       "{530: 42,\n",
       " 78: [1, 2, 3, 4, 5],\n",
       " 445: 'Hello, world!',\n",
       " 276: [10, 'abc', 20, 'def'],\n",
       " 773: (7, 8, 9),\n",
       " 428: {'apple', 'banana', 'cherry'},\n",
       " 605: ['dog', 'cat', 'elephant']}"
      ]
     },
     "execution_count": 4,
     "metadata": {},
     "output_type": "execute_result"
    }
   ],
   "source": [
    "my_dict"
   ]
  },
  {
   "cell_type": "code",
   "execution_count": 7,
   "id": "8f6bb555",
   "metadata": {},
   "outputs": [
    {
     "data": {
      "text/plain": [
       "'o'"
      ]
     },
     "execution_count": 7,
     "metadata": {},
     "output_type": "execute_result"
    }
   ],
   "source": [
    "my_dict[445][2]"
   ]
  },
  {
   "cell_type": "code",
   "execution_count": 8,
   "id": "48be4faf",
   "metadata": {},
   "outputs": [
    {
     "data": {
      "text/plain": [
       "'c'"
      ]
     },
     "execution_count": 8,
     "metadata": {},
     "output_type": "execute_result"
    }
   ],
   "source": [
    "my_dict[276][1][2]"
   ]
  },
  {
   "cell_type": "code",
   "execution_count": 24,
   "id": "3f7845a2",
   "metadata": {},
   "outputs": [
    {
     "data": {
      "text/plain": [
       "[530, 78, 445, 276, 773, 428, 605]"
      ]
     },
     "execution_count": 24,
     "metadata": {},
     "output_type": "execute_result"
    }
   ],
   "source": [
    "list(my_dict.keys())"
   ]
  },
  {
   "cell_type": "code",
   "execution_count": 25,
   "id": "63ea78b4",
   "metadata": {},
   "outputs": [
    {
     "name": "stdout",
     "output_type": "stream",
     "text": [
      "42\n",
      "[1, 2, 3, 4, 5]\n",
      "good\n",
      "[10, 'abc', 20, 'def']\n",
      "(7, 8, 9)\n",
      "{'apple', 'cherry', 'banana'}\n",
      "['dog', 'cat', 'elephant']\n"
     ]
    }
   ],
   "source": [
    "for i in list(my_dict.keys()):\n",
    "    print(my_dict[i])"
   ]
  },
  {
   "cell_type": "markdown",
   "id": "6a5ee96e",
   "metadata": {},
   "source": [
    "Task :\n",
    "    \n",
    "    Create a list of top 50 numbers, Try accessing the last 10 numbers using negativ index\n",
    "    List the odd numbers from the list"
   ]
  },
  {
   "cell_type": "code",
   "execution_count": 28,
   "id": "afc915fb",
   "metadata": {},
   "outputs": [],
   "source": [
    "ke = []\n",
    "for i in range (1,51):\n",
    "    ke.append(i)"
   ]
  },
  {
   "cell_type": "code",
   "execution_count": 29,
   "id": "c83b9a8a",
   "metadata": {},
   "outputs": [
    {
     "data": {
      "text/plain": [
       "[41, 42, 43, 44, 45, 46, 47, 48, 49, 50]"
      ]
     },
     "execution_count": 29,
     "metadata": {},
     "output_type": "execute_result"
    }
   ],
   "source": [
    "ke[(len(ke))-10 : len(ke)+1]"
   ]
  },
  {
   "cell_type": "code",
   "execution_count": 31,
   "id": "0da5944e",
   "metadata": {},
   "outputs": [
    {
     "data": {
      "text/plain": [
       "[1,\n",
       " 3,\n",
       " 5,\n",
       " 7,\n",
       " 9,\n",
       " 11,\n",
       " 13,\n",
       " 15,\n",
       " 17,\n",
       " 19,\n",
       " 21,\n",
       " 23,\n",
       " 25,\n",
       " 27,\n",
       " 29,\n",
       " 31,\n",
       " 33,\n",
       " 35,\n",
       " 37,\n",
       " 39,\n",
       " 41,\n",
       " 43,\n",
       " 45,\n",
       " 47,\n",
       " 49]"
      ]
     },
     "execution_count": 31,
     "metadata": {},
     "output_type": "execute_result"
    }
   ],
   "source": [
    "ke[::2]"
   ]
  }
 ],
 "metadata": {
  "kernelspec": {
   "display_name": "Python 3 (ipykernel)",
   "language": "python",
   "name": "python3"
  },
  "language_info": {
   "codemirror_mode": {
    "name": "ipython",
    "version": 3
   },
   "file_extension": ".py",
   "mimetype": "text/x-python",
   "name": "python",
   "nbconvert_exporter": "python",
   "pygments_lexer": "ipython3",
   "version": "3.11.5"
  }
 },
 "nbformat": 4,
 "nbformat_minor": 5
}
