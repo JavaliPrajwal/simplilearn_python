{
 "cells": [
  {
   "cell_type": "markdown",
   "id": "90000f45",
   "metadata": {},
   "source": [
    "Write a program which takes name, date of birth and experience as user input. Try to calculate the age using date of birth. While calculating the age add exception handling such that if it is invalid it returns an error about the type.\n",
    "\n",
    "Hint : Use datetime object in python for date of birth"
   ]
  },
  {
   "cell_type": "code",
   "execution_count": 10,
   "id": "c5eedb65",
   "metadata": {},
   "outputs": [
    {
     "name": "stdout",
     "output_type": "stream",
     "text": [
      "Enter your name: wer\n",
      "Enter your date of birth (YYYY-MM-DD): 324\n",
      "Enter your years of experience: 13\n",
      "Error: time data '324' does not match format '%Y-%m-%d'\n"
     ]
    }
   ],
   "source": [
    "import datetime\n",
    "\n",
    "try:\n",
    "    name = input(\"Enter your name: \")\n",
    "    dob_input = input(\"Enter your date of birth (YYYY-MM-DD): \")\n",
    "    experience = float(input(\"Enter your years of experience: \"))\n",
    "\n",
    "    dob = datetime.datetime.strptime(dob_input, \"%Y-%m-%d\").date()\n",
    "    today = datetime.date.today()\n",
    "    age = today.year - dob.year\n",
    "\n",
    "    print("{name} Your age is {age} years")",
    "except ValueError as e :\n",
    "    print(\"Error: {}\".format(e))\n"
   ]
  },
  {
   "cell_type": "code",
   "execution_count": null,
   "id": "0897f547",
   "metadata": {},
   "outputs": [
    {
     "name": "stdout",
     "output_type": "stream",
     "text": [
      "Enter your name: J Prajwal\n"
     ]
    }
   ],
   "source": [
    "import datetime\n",
    "\n",
    "try:\n",
    "    name = input(\"Enter your name: \")\n",
    "    dob_input = input(\"Enter your date of birth (YYYY-MM-DD): \")\n",
    "    experience = float(input(\"Enter your years of experience: \"))\n",
    "\n",
    "    dob = datetime.datetime.strptime(dob_input, \"%Y-%m-%d\").date()\n",
    "    today = datetime.date.today()\n",
    "    age = today.year - dob.year\n",
    "\n",
    "    print("{name} Your age is {age} years")",
    "except ValueError as e :\n",
    "    print(\"Error: {}\".format(e))"
   ]
  },
  {
   "cell_type": "code",
   "execution_count": null,
   "id": "ca83b2e7",
   "metadata": {},
   "outputs": [],
   "source": []
  }
 ],
 "metadata": {
  "kernelspec": {
   "display_name": "Python 3 (ipykernel)",
   "language": "python",
   "name": "python3"
  },
  "language_info": {
   "codemirror_mode": {
    "name": "ipython",
    "version": 3
   },
   "file_extension": ".py",
   "mimetype": "text/x-python",
   "name": "python",
   "nbconvert_exporter": "python",
   "pygments_lexer": "ipython3",
   "version": "3.11.5"
  }
 },
 "nbformat": 4,
 "nbformat_minor": 5
}
