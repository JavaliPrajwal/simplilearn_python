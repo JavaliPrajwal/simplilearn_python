{
 "cells": [
  {
   "cell_type": "code",
   "execution_count": 1,
   "id": "ff2684bf",
   "metadata": {},
   "outputs": [],
   "source": [
    "sampleDict = {\n",
    "    \"class\": {\n",
    "        \"student\": {\n",
    "            \"name\": \"Mike\",\n",
    "            \"marks\": {\n",
    "                \"physics\": 70,\n",
    "                \"history\": 80\n",
    "            }\n",
    "        }\n",
    "    }\n",
    "}"
   ]
  },
  {
   "cell_type": "code",
   "execution_count": 2,
   "id": "fc62b2c0",
   "metadata": {},
   "outputs": [
    {
     "data": {
      "text/plain": [
       "80"
      ]
     },
     "execution_count": 2,
     "metadata": {},
     "output_type": "execute_result"
    }
   ],
   "source": [
    "sampleDict[\"class\"][\"student\"][\"marks\"][\"history\"]"
   ]
  },
  {
   "cell_type": "code",
   "execution_count": 4,
   "id": "fed17ed6",
   "metadata": {},
   "outputs": [],
   "source": [
    "sample_dict_2 = {\n",
    "    \"name\": \"Kelly\",\n",
    "    \"age\": 25,\n",
    "    \"salary\": 8000,\n",
    "    \"city\": \"New york\"}"
   ]
  },
  {
   "cell_type": "code",
   "execution_count": 5,
   "id": "b439afc9",
   "metadata": {},
   "outputs": [],
   "source": [
    "keys = [\"name\", \"salary\"]"
   ]
  },
  {
   "cell_type": "code",
   "execution_count": 7,
   "id": "7ec70c4d",
   "metadata": {},
   "outputs": [],
   "source": [
    "ans = {}"
   ]
  },
  {
   "cell_type": "code",
   "execution_count": 9,
   "id": "0edcb0f9",
   "metadata": {},
   "outputs": [],
   "source": [
    "for k in keys :\n",
    "    if k in sample_dict_2:\n",
    "        ans[k] = sample_dict_2[k]"
   ]
  },
  {
   "cell_type": "code",
   "execution_count": 10,
   "id": "4db5a276",
   "metadata": {},
   "outputs": [
    {
     "data": {
      "text/plain": [
       "{'name': 'Kelly', 'salary': 8000}"
      ]
     },
     "execution_count": 10,
     "metadata": {},
     "output_type": "execute_result"
    }
   ],
   "source": [
    "ans"
   ]
  },
  {
   "cell_type": "code",
   "execution_count": 17,
   "id": "c6b71ef0",
   "metadata": {},
   "outputs": [],
   "source": [
    "sample_dict_3 = {\n",
    "    \"name\": \"Kelly\",\n",
    "    \"age\": 25,\n",
    "    \"salary\": 8000,\n",
    "    \"city\": \"New york\"\n",
    "}"
   ]
  },
  {
   "cell_type": "code",
   "execution_count": 18,
   "id": "21461590",
   "metadata": {},
   "outputs": [],
   "source": [
    "keys = [\"name\", \"salary\"]"
   ]
  },
  {
   "cell_type": "code",
   "execution_count": 19,
   "id": "2c37b9fb",
   "metadata": {},
   "outputs": [],
   "source": [
    "for k in keys :\n",
    "    if k in sample_dict_3:\n",
    "        del sample_dict_3[k]"
   ]
  },
  {
   "cell_type": "code",
   "execution_count": 21,
   "id": "a9aa516f",
   "metadata": {},
   "outputs": [
    {
     "data": {
      "text/plain": [
       "{'age': 25, 'city': 'New york'}"
      ]
     },
     "execution_count": 21,
     "metadata": {},
     "output_type": "execute_result"
    }
   ],
   "source": [
    "sample_dict_3"
   ]
  },
  {
   "cell_type": "code",
   "execution_count": null,
   "id": "023097c4",
   "metadata": {},
   "outputs": [],
   "source": []
  }
 ],
 "metadata": {
  "kernelspec": {
   "display_name": "Python 3 (ipykernel)",
   "language": "python",
   "name": "python3"
  },
  "language_info": {
   "codemirror_mode": {
    "name": "ipython",
    "version": 3
   },
   "file_extension": ".py",
   "mimetype": "text/x-python",
   "name": "python",
   "nbconvert_exporter": "python",
   "pygments_lexer": "ipython3",
   "version": "3.11.5"
  }
 },
 "nbformat": 4,
 "nbformat_minor": 5
}
