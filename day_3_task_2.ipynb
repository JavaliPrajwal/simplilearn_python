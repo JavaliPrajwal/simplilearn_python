{
 "cells": [
  {
   "cell_type": "markdown",
   "id": "c41940cd",
   "metadata": {},
   "source": [
    "Question : Use smart programming to print the year since your year of birth till now if the sum of digits in that year is divisible by 2"
   ]
  },
  {
   "cell_type": "code",
   "execution_count": 3,
   "id": "d68ca175",
   "metadata": {},
   "outputs": [
    {
     "data": {
      "text/plain": [
       "[2002, 2004, 2006, 2008, 2011, 2013, 2015, 2017, 2019, 2020, 2022]"
      ]
     },
     "execution_count": 3,
     "metadata": {},
     "output_type": "execute_result"
    }
   ],
   "source": [
    "[year for year in range(2001,2023+1) if sum(int(i) for i in str(year)) % 2 == 0]"
   ]
  }
 ],
 "metadata": {
  "kernelspec": {
   "display_name": "Python 3 (ipykernel)",
   "language": "python",
   "name": "python3"
  },
  "language_info": {
   "codemirror_mode": {
    "name": "ipython",
    "version": 3
   },
   "file_extension": ".py",
   "mimetype": "text/x-python",
   "name": "python",
   "nbconvert_exporter": "python",
   "pygments_lexer": "ipython3",
   "version": "3.11.5"
  }
 },
 "nbformat": 4,
 "nbformat_minor": 5
}
