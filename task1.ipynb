{
 "cells": [
  {
   "cell_type": "markdown",
   "id": "5c8d77d1",
   "metadata": {},
   "source": [
    "Task:\n",
    "    \n",
    "    1. Create an empty dictionary, a list of countries, a list of respective capitals, a tuple of respective currencies and \n",
    "       a set of length of name of countries\n",
    "    2. Add the created list of countries, a list of respective capitals, a tuple of respective currencies and \n",
    "       a set of  length of name of countries to the empty dictionary"
   ]
  },
  {
   "cell_type": "code",
   "execution_count": 1,
   "id": "89d6ce6f",
   "metadata": {},
   "outputs": [],
   "source": [
    "country_dict = {}"
   ]
  },
  {
   "cell_type": "code",
   "execution_count": 2,
   "id": "8bcd1ed0",
   "metadata": {},
   "outputs": [
    {
     "data": {
      "text/plain": [
       "dict_keys([])"
      ]
     },
     "execution_count": 2,
     "metadata": {},
     "output_type": "execute_result"
    }
   ],
   "source": [
    "country_dict.keys()"
   ]
  },
  {
   "cell_type": "code",
   "execution_count": 3,
   "id": "1f4049ea",
   "metadata": {},
   "outputs": [],
   "source": [
    "countries = ['India','Ausria','Afghanistan']"
   ]
  },
  {
   "cell_type": "code",
   "execution_count": 4,
   "id": "2b579708",
   "metadata": {},
   "outputs": [
    {
     "data": {
      "text/plain": [
       "['India', 'Ausria', 'Afghanistan']"
      ]
     },
     "execution_count": 4,
     "metadata": {},
     "output_type": "execute_result"
    }
   ],
   "source": [
    "countries"
   ]
  },
  {
   "cell_type": "code",
   "execution_count": 5,
   "id": "5e9a3e09",
   "metadata": {},
   "outputs": [],
   "source": [
    "capitals = ['Dehli','Vienna','Kabul']"
   ]
  },
  {
   "cell_type": "code",
   "execution_count": 6,
   "id": "0e9f4fa9",
   "metadata": {},
   "outputs": [],
   "source": [
    "currencies = ('Rupee','Euro','Afghani')"
   ]
  },
  {
   "cell_type": "code",
   "execution_count": 7,
   "id": "f9dea2eb",
   "metadata": {},
   "outputs": [],
   "source": [
    "length = [len(countries[0]),len(countries[1]),len(countries[2])]"
   ]
  },
  {
   "cell_type": "code",
   "execution_count": 8,
   "id": "ee73bd8e",
   "metadata": {},
   "outputs": [],
   "source": [
    "country_dict['countries'] = countries\n",
    "country_dict['capitals'] = capitals\n",
    "country_dict['currencies'] = currencies\n",
    "country_dict['length'] = length"
   ]
  },
  {
   "cell_type": "code",
   "execution_count": 9,
   "id": "90a5e2d7",
   "metadata": {},
   "outputs": [
    {
     "data": {
      "text/plain": [
       "{'countries': ['India', 'Ausria', 'Afghanistan'],\n",
       " 'capitals': ['Dehli', 'Vienna', 'Kabul'],\n",
       " 'currencies': ('Rupee', 'Euro', 'Afghani'),\n",
       " 'length': [5, 6, 11]}"
      ]
     },
     "execution_count": 9,
     "metadata": {},
     "output_type": "execute_result"
    }
   ],
   "source": [
    "country_dict"
   ]
  }
 ],
 "metadata": {
  "kernelspec": {
   "display_name": "Python 3 (ipykernel)",
   "language": "python",
   "name": "python3"
  },
  "language_info": {
   "codemirror_mode": {
    "name": "ipython",
    "version": 3
   },
   "file_extension": ".py",
   "mimetype": "text/x-python",
   "name": "python",
   "nbconvert_exporter": "python",
   "pygments_lexer": "ipython3",
   "version": "3.11.5"
  }
 },
 "nbformat": 4,
 "nbformat_minor": 5
}
